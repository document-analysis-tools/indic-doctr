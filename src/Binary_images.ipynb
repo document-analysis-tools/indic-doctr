{
 "cells": [
  {
   "cell_type": "code",
   "execution_count": 24,
   "id": "9cb87757",
   "metadata": {},
   "outputs": [],
   "source": [
    "import os\n",
    "from skimage.filters import threshold_otsu\n",
    "from skimage import io, color\n",
    "from tqdm import tqdm\n",
    "import os\n",
    "\n",
    "import warnings\n",
    "warnings.filterwarnings(\"ignore\")"
   ]
  },
  {
   "cell_type": "code",
   "execution_count": 25,
   "id": "3f64bef4",
   "metadata": {},
   "outputs": [],
   "source": [
    "languages = ['bengali','tamil','telugu','odia','malayalam','gujarati','gurumukhi','kannada','urdu', 'devanagari']"
   ]
  },
  {
   "cell_type": "code",
   "execution_count": null,
   "id": "3d0096df",
   "metadata": {},
   "outputs": [],
   "source": []
  },
  {
   "cell_type": "code",
   "execution_count": null,
   "id": "e2f3c96a",
   "metadata": {},
   "outputs": [
    {
     "name": "stderr",
     "output_type": "stream",
     "text": [
      "  6%|███████                                                                                                                | 4881/82554 [01:02<17:16, 74.91it/s]"
     ]
    }
   ],
   "source": [
    "for language in languages:\n",
    "    src_dir = '/data/BADRI/IHTR/trainset/' + language + '/images/'\n",
    "    out_dir = '/data/BADRI/IHTR/binary_data/trainset/' + language + '/images/'\n",
    "\n",
    "    for file in tqdm(os.listdir(src_dir)):\n",
    "        if not (os.path.exists(out_dir + file)):\n",
    "            image = io.imread(src_dir + file)\n",
    "            image = color.rgb2gray(image)\n",
    "            thresh = threshold_otsu(image)\n",
    "            binary = image > thresh\n",
    "            io.imsave(out_dir+file, binary)"
   ]
  },
  {
   "cell_type": "code",
   "execution_count": null,
   "id": "859c7142",
   "metadata": {},
   "outputs": [],
   "source": []
  }
 ],
 "metadata": {
  "kernelspec": {
   "display_name": "Python 3 (ipykernel)",
   "language": "python",
   "name": "python3"
  },
  "language_info": {
   "codemirror_mode": {
    "name": "ipython",
    "version": 3
   },
   "file_extension": ".py",
   "mimetype": "text/x-python",
   "name": "python",
   "nbconvert_exporter": "python",
   "pygments_lexer": "ipython3",
   "version": "3.10.6"
  }
 },
 "nbformat": 4,
 "nbformat_minor": 5
}
