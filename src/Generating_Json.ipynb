{
 "cells": [
  {
   "cell_type": "code",
   "execution_count": 64,
   "id": "42f8296d",
   "metadata": {},
   "outputs": [],
   "source": [
    "import pandas as pd\n",
    "import json"
   ]
  },
  {
   "cell_type": "code",
   "execution_count": 65,
   "id": "6b96cb28",
   "metadata": {},
   "outputs": [],
   "source": [
    "languages = ['bengali','tamil','telugu','odia','malayalam','gujarati','gurumukhi','kannada','urdu', 'devanagari']\n",
    "# languages = ['Bengali','Tamil','Telugu','Odia','Malayalam','Gujarati','Gurumukhi','Kannada','Urdu', 'Devanagari']\n",
    "sets = ['train', 'val', 'test']\n",
    "\n",
    "\n",
    "folder = 'validationset_small/'\n",
    "i = 1\n",
    "\n",
    "for language in languages:\n",
    "    inp_file = '/data/BADRI/IHTR/' + folder + language + '/' + sets[i] + '.txt'\n",
    "    out_file = '/data/BADRI/IHTR/' + folder + language + '/labels.json'\n",
    "    df = pd.read_csv(inp_file,names=['file','token'], sep=' ')\n",
    "    df['file'] = df['file'].apply(lambda x : x[len(sets[i])+2:])\n",
    "    data = dict(zip(df.file, df.token))\n",
    "\n",
    "    with open(out_file, 'w') as f:\n",
    "        json.dump(data, f)"
   ]
  },
  {
   "cell_type": "code",
   "execution_count": null,
   "id": "9a71b34c",
   "metadata": {},
   "outputs": [],
   "source": []
  }
 ],
 "metadata": {
  "kernelspec": {
   "display_name": "Python 3 (ipykernel)",
   "language": "python",
   "name": "python3"
  },
  "language_info": {
   "codemirror_mode": {
    "name": "ipython",
    "version": 3
   },
   "file_extension": ".py",
   "mimetype": "text/x-python",
   "name": "python",
   "nbconvert_exporter": "python",
   "pygments_lexer": "ipython3",
   "version": "3.10.6"
  }
 },
 "nbformat": 4,
 "nbformat_minor": 5
}
